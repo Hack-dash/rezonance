{
 "cells": [
  {
   "cell_type": "code",
   "execution_count": 1,
   "metadata": {},
   "outputs": [],
   "source": [
    "import pandas as pd\n",
    "import numpy as np"
   ]
  },
  {
   "cell_type": "code",
   "execution_count": 13,
   "metadata": {},
   "outputs": [
    {
     "data": {
      "text/html": [
       "<div>\n",
       "<style scoped>\n",
       "    .dataframe tbody tr th:only-of-type {\n",
       "        vertical-align: middle;\n",
       "    }\n",
       "\n",
       "    .dataframe tbody tr th {\n",
       "        vertical-align: top;\n",
       "    }\n",
       "\n",
       "    .dataframe thead th {\n",
       "        text-align: right;\n",
       "    }\n",
       "</style>\n",
       "<table border=\"1\" class=\"dataframe\">\n",
       "  <thead>\n",
       "    <tr style=\"text-align: right;\">\n",
       "      <th></th>\n",
       "      <th>name</th>\n",
       "      <th>spotify_id</th>\n",
       "      <th>popularity</th>\n",
       "    </tr>\n",
       "  </thead>\n",
       "  <tbody>\n",
       "    <tr>\n",
       "      <th>0</th>\n",
       "      <td>Mood (feat. iann dior)</td>\n",
       "      <td>3tjFYV6RSFtuktYl3ZtYcq</td>\n",
       "      <td>100.0</td>\n",
       "    </tr>\n",
       "    <tr>\n",
       "      <th>1</th>\n",
       "      <td>Blinding Lights</td>\n",
       "      <td>0VjIjW4GlUZAMYd2vXMi3b</td>\n",
       "      <td>97.0</td>\n",
       "    </tr>\n",
       "    <tr>\n",
       "      <th>2</th>\n",
       "      <td>Dynamite</td>\n",
       "      <td>0t1kP63rueHleOhQkYSXFY</td>\n",
       "      <td>97.0</td>\n",
       "    </tr>\n",
       "    <tr>\n",
       "      <th>3</th>\n",
       "      <td>ROCKSTAR (feat. Roddy Ricch)</td>\n",
       "      <td>7ytR5pFWmSjzHJIeQkgog4</td>\n",
       "      <td>96.0</td>\n",
       "    </tr>\n",
       "    <tr>\n",
       "      <th>4</th>\n",
       "      <td>For The Night (feat. Lil Baby &amp; DaBaby)</td>\n",
       "      <td>0PvFJmanyNQMseIFrU708S</td>\n",
       "      <td>95.0</td>\n",
       "    </tr>\n",
       "  </tbody>\n",
       "</table>\n",
       "</div>"
      ],
      "text/plain": [
       "                                      name              spotify_id  popularity\n",
       "0                   Mood (feat. iann dior)  3tjFYV6RSFtuktYl3ZtYcq       100.0\n",
       "1                          Blinding Lights  0VjIjW4GlUZAMYd2vXMi3b        97.0\n",
       "2                                 Dynamite  0t1kP63rueHleOhQkYSXFY        97.0\n",
       "3             ROCKSTAR (feat. Roddy Ricch)  7ytR5pFWmSjzHJIeQkgog4        96.0\n",
       "4  For The Night (feat. Lil Baby & DaBaby)  0PvFJmanyNQMseIFrU708S        95.0"
      ]
     },
     "execution_count": 13,
     "metadata": {},
     "output_type": "execute_result"
    }
   ],
   "source": [
    "df = pd.read_csv(\"complete/1980_to_2020.csv\")\n",
    "df.head()"
   ]
  },
  {
   "cell_type": "code",
   "execution_count": 19,
   "metadata": {},
   "outputs": [
    {
     "data": {
      "text/html": [
       "<div>\n",
       "<style scoped>\n",
       "    .dataframe tbody tr th:only-of-type {\n",
       "        vertical-align: middle;\n",
       "    }\n",
       "\n",
       "    .dataframe tbody tr th {\n",
       "        vertical-align: top;\n",
       "    }\n",
       "\n",
       "    .dataframe thead th {\n",
       "        text-align: right;\n",
       "    }\n",
       "</style>\n",
       "<table border=\"1\" class=\"dataframe\">\n",
       "  <thead>\n",
       "    <tr style=\"text-align: right;\">\n",
       "      <th></th>\n",
       "      <th>name</th>\n",
       "      <th>spotify_id</th>\n",
       "      <th>popularity</th>\n",
       "    </tr>\n",
       "  </thead>\n",
       "  <tbody>\n",
       "    <tr>\n",
       "      <th>5141</th>\n",
       "      <td>Everything Has Changed</td>\n",
       "      <td>3Z1kZKYfRC8iRXnYeC5sCJ</td>\n",
       "      <td>67.0</td>\n",
       "    </tr>\n",
       "    <tr>\n",
       "      <th>12941</th>\n",
       "      <td>Everything Has Changed</td>\n",
       "      <td>4NAmRvqSITAAzKWnC8yRq3</td>\n",
       "      <td>60.0</td>\n",
       "    </tr>\n",
       "    <tr>\n",
       "      <th>20532</th>\n",
       "      <td>Everything Has Changed</td>\n",
       "      <td>7gdwoOmi258QJq0hmQ4hto</td>\n",
       "      <td>56.0</td>\n",
       "    </tr>\n",
       "  </tbody>\n",
       "</table>\n",
       "</div>"
      ],
      "text/plain": [
       "                         name              spotify_id  popularity\n",
       "5141   Everything Has Changed  3Z1kZKYfRC8iRXnYeC5sCJ        67.0\n",
       "12941  Everything Has Changed  4NAmRvqSITAAzKWnC8yRq3        60.0\n",
       "20532  Everything Has Changed  7gdwoOmi258QJq0hmQ4hto        56.0"
      ]
     },
     "execution_count": 19,
     "metadata": {},
     "output_type": "execute_result"
    }
   ],
   "source": [
    "mask = (df[\"name\"].str.contains(\"everything has chang\", regex=False, case=False))\n",
    "df[mask]"
   ]
  },
  {
   "cell_type": "code",
   "execution_count": 20,
   "metadata": {},
   "outputs": [],
   "source": [
    "df.sort_values(by=\"popularity\", inplace=True)"
   ]
  },
  {
   "cell_type": "code",
   "execution_count": 23,
   "metadata": {},
   "outputs": [],
   "source": [
    "df[\"artist\"] = \"\"\n",
    "df[\"danceability\"] = -1\n",
    "df[\"energy\"] = -1\n",
    "df[\"loudness\"] = -1\n",
    "df[\"mode\"] =  -1\n",
    "df[\"speechiness\"] = -1\n",
    "df[\"acousticness\"] = -1\n",
    "df[\"instrumentalness\"] = -1\n",
    "df[\"liveness\"] = -1\n",
    "df[\"valence\"] = -1\n",
    "df[\"preview\"] = \"\"\n",
    "df[\"img\"] = \"\""
   ]
  },
  {
   "cell_type": "code",
   "execution_count": 30,
   "metadata": {},
   "outputs": [
    {
     "data": {
      "text/html": [
       "<div>\n",
       "<style scoped>\n",
       "    .dataframe tbody tr th:only-of-type {\n",
       "        vertical-align: middle;\n",
       "    }\n",
       "\n",
       "    .dataframe tbody tr th {\n",
       "        vertical-align: top;\n",
       "    }\n",
       "\n",
       "    .dataframe thead th {\n",
       "        text-align: right;\n",
       "    }\n",
       "</style>\n",
       "<table border=\"1\" class=\"dataframe\">\n",
       "  <thead>\n",
       "    <tr style=\"text-align: right;\">\n",
       "      <th></th>\n",
       "      <th>name</th>\n",
       "      <th>spotify_id</th>\n",
       "      <th>popularity</th>\n",
       "      <th>artist</th>\n",
       "      <th>danceability</th>\n",
       "      <th>energy</th>\n",
       "      <th>loudness</th>\n",
       "      <th>mode</th>\n",
       "      <th>speechiness</th>\n",
       "      <th>acousticness</th>\n",
       "      <th>instrumentalness</th>\n",
       "      <th>liveness</th>\n",
       "      <th>valence</th>\n",
       "    </tr>\n",
       "  </thead>\n",
       "  <tbody>\n",
       "    <tr>\n",
       "      <th>43847</th>\n",
       "      <td>P-Poppin'</td>\n",
       "      <td>6yOghbMYTTUdOGiExT0rIF</td>\n",
       "      <td>40.0</td>\n",
       "      <td></td>\n",
       "      <td>-1</td>\n",
       "      <td>-1</td>\n",
       "      <td>-1</td>\n",
       "      <td>-1</td>\n",
       "      <td>-1</td>\n",
       "      <td>-1</td>\n",
       "      <td>-1</td>\n",
       "      <td>-1</td>\n",
       "      <td>-1</td>\n",
       "    </tr>\n",
       "    <tr>\n",
       "      <th>43756</th>\n",
       "      <td>Be Easy</td>\n",
       "      <td>00qpe8j0FiQhMzPP8asBwP</td>\n",
       "      <td>40.0</td>\n",
       "      <td></td>\n",
       "      <td>-1</td>\n",
       "      <td>-1</td>\n",
       "      <td>-1</td>\n",
       "      <td>-1</td>\n",
       "      <td>-1</td>\n",
       "      <td>-1</td>\n",
       "      <td>-1</td>\n",
       "      <td>-1</td>\n",
       "      <td>-1</td>\n",
       "    </tr>\n",
       "    <tr>\n",
       "      <th>43757</th>\n",
       "      <td>The Light &amp; the Glass</td>\n",
       "      <td>323bMKFBvCrQ7YSrdCps3W</td>\n",
       "      <td>40.0</td>\n",
       "      <td></td>\n",
       "      <td>-1</td>\n",
       "      <td>-1</td>\n",
       "      <td>-1</td>\n",
       "      <td>-1</td>\n",
       "      <td>-1</td>\n",
       "      <td>-1</td>\n",
       "      <td>-1</td>\n",
       "      <td>-1</td>\n",
       "      <td>-1</td>\n",
       "    </tr>\n",
       "    <tr>\n",
       "      <th>43758</th>\n",
       "      <td>Noches Eternas - Mariachi</td>\n",
       "      <td>5QP8hImTI6nJFXIcewXM64</td>\n",
       "      <td>40.0</td>\n",
       "      <td></td>\n",
       "      <td>-1</td>\n",
       "      <td>-1</td>\n",
       "      <td>-1</td>\n",
       "      <td>-1</td>\n",
       "      <td>-1</td>\n",
       "      <td>-1</td>\n",
       "      <td>-1</td>\n",
       "      <td>-1</td>\n",
       "      <td>-1</td>\n",
       "    </tr>\n",
       "    <tr>\n",
       "      <th>43759</th>\n",
       "      <td>Mercy Said No</td>\n",
       "      <td>3wOHgqLMIqHierF0D8VoMl</td>\n",
       "      <td>40.0</td>\n",
       "      <td></td>\n",
       "      <td>-1</td>\n",
       "      <td>-1</td>\n",
       "      <td>-1</td>\n",
       "      <td>-1</td>\n",
       "      <td>-1</td>\n",
       "      <td>-1</td>\n",
       "      <td>-1</td>\n",
       "      <td>-1</td>\n",
       "      <td>-1</td>\n",
       "    </tr>\n",
       "  </tbody>\n",
       "</table>\n",
       "</div>"
      ],
      "text/plain": [
       "                            name              spotify_id  popularity artist  \\\n",
       "43847                  P-Poppin'  6yOghbMYTTUdOGiExT0rIF        40.0          \n",
       "43756                    Be Easy  00qpe8j0FiQhMzPP8asBwP        40.0          \n",
       "43757      The Light & the Glass  323bMKFBvCrQ7YSrdCps3W        40.0          \n",
       "43758  Noches Eternas - Mariachi  5QP8hImTI6nJFXIcewXM64        40.0          \n",
       "43759              Mercy Said No  3wOHgqLMIqHierF0D8VoMl        40.0          \n",
       "\n",
       "       danceability  energy  loudness  mode  speechiness  acousticness  \\\n",
       "43847            -1      -1        -1    -1           -1            -1   \n",
       "43756            -1      -1        -1    -1           -1            -1   \n",
       "43757            -1      -1        -1    -1           -1            -1   \n",
       "43758            -1      -1        -1    -1           -1            -1   \n",
       "43759            -1      -1        -1    -1           -1            -1   \n",
       "\n",
       "       instrumentalness  liveness  valence  \n",
       "43847                -1        -1       -1  \n",
       "43756                -1        -1       -1  \n",
       "43757                -1        -1       -1  \n",
       "43758                -1        -1       -1  \n",
       "43759                -1        -1       -1  "
      ]
     },
     "execution_count": 30,
     "metadata": {},
     "output_type": "execute_result"
    }
   ],
   "source": [
    "df.head()"
   ]
  },
  {
   "cell_type": "code",
   "execution_count": 29,
   "metadata": {},
   "outputs": [
    {
     "data": {
      "text/plain": [
       "''"
      ]
     },
     "execution_count": 29,
     "metadata": {},
     "output_type": "execute_result"
    }
   ],
   "source": [
    "df.iloc[0, 3]"
   ]
  },
  {
   "cell_type": "code",
   "execution_count": 21,
   "metadata": {},
   "outputs": [],
   "source": [
    "df.to_csv(\"1980_to_2020.csv\", index=False)"
   ]
  }
 ],
 "metadata": {
  "kernelspec": {
   "display_name": "Python 3",
   "language": "python",
   "name": "python3"
  },
  "language_info": {
   "codemirror_mode": {
    "name": "ipython",
    "version": 3
   },
   "file_extension": ".py",
   "mimetype": "text/x-python",
   "name": "python",
   "nbconvert_exporter": "python",
   "pygments_lexer": "ipython3",
   "version": "3.8.4"
  }
 },
 "nbformat": 4,
 "nbformat_minor": 4
}
